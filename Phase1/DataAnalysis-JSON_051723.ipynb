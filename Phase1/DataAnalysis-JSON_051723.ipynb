{
 "cells": [
  {
   "cell_type": "markdown",
   "metadata": {},
   "source": [
    "![more_data](data:image/png;base64,iVBORw0KGgoAAAANSUhEUgAAAOEAAADhCAMAAAAJbSJIAAAAdVBMVEX///8AAAA3NzdDQ0P8/PxaWlqcnJzPz8+/v7+8vLzZ2dmvr6+FhYXLy8spKSmoqKjf399+fn729vbl5eUwMDDu7u4+Pj6ioqJFRUVra2uUlJSKiopVVVU2NjZ2dnYmJiYSEhJiYmIYGBgeHh5MTEwLCwtoaGgNCzv2AAAKEklEQVR4nO2d63qrKhCGtbWJOSfmHNtkpWl6/5e4Y2Q4iShUcLIfvl9rNQq8ch5giCK90vPlHvvWZTVsSFZnSjfe6YiOiRfARV98D+18II56BPSCuO0V8IGYuSbMeyaM31znYt+AzgvqDOLZHN496vDFIzotqCcSy9llJApNYl+IZxKJt86XaOCtoH6SOLbuolBKJHSJ+EaicBZBjSTC+M1ZQcVC6K7TQEPorKD2Tbi4uW5R+yYcr/85RuybcBgtHdfF/gl5RBd1EQFhtGQF1UGngYGQR+y+LqIgdFpQcRC6RERC6LAuYiF012mgIXRWUPEQRktmlO6yRUVE6KjTwETopi6iInRSF3ERuug0kBE6aG6wEXZfUNERdo6Ij7DruoiQsONOAyNhtwUVJWGnoxuchF0iIiXssKBiJewOES1hZ50GXkJ+APeXTgMxYUcFFTOhMAy3RkRN2EmngZswWn//uS72TZhPtBpNWV18t0Psm9BEB6uYXokwzm1ieinC2Ka1sSRcTxankUV06Wk/WRb/sCOcWERpQ5gsLs935qbbjLLd8737PrMknBpGWMiCcDaHCE2r/hFe/J7ZbUz+NIywkDkhnzbDTOTefItt9G4W31PGhMKmQrP9fmv+1essbS/YyPxmiheZE46Fb2rYBwvvji3e9EH4ySfyZBiZkP9fJm/6IxzyaRwYxyYgmvQ2/ghhw238OVpaxPaoiyPaoP4YvOaPECZsNh0TaG9Ri70RQpt2t4iJaWfe1ngjhJb0b/veYTyTtn/FGyE0NOZtDC9obwyamkCoUSAUFQjbKRAqFAg1ckGYbfX2lFcnHBfTj8NM88SLE4IJQGP5e21CNkOuH5O9NiG1UmmCfGlC3hRTa8R5aULeBlAL8NKEvKGqtiK+NCFvTqudwmMmhLPti9onmK2p3hCXkicMViG8EcLZds3s/IM8sqt/xMJS4I0QLCw6O1tpo9At9SUklFt7U5QvQuoGRZu0dbofrbXhgD+cfetkeiLcws6IlUVEvKCwa8uCID+EbF/EXx0wsHFBW4OiD8It/fBGxmq1qN07nurLM8g1YTr9/YmZjFaNlOIHd4ffVXPH6JjwGAvqwg2KtMjduLbrllBakP57GS0kfbWmfSRuCYUlw/izo/NIImLTYqJbwh8hLe37ML1EF2Pzhu/mlvAspMVoYbNeQzHQpqLvllD2d6YzMrXVUgqzqet3SxitxZpoMJys1UHMwcYhhGPCwgI65Py6WW2gE8Q1z9PZtsWuHOeEhRK21bPdOKReGd3dfGy5F88LIbcA/9f2lLajrUuDJ8JoRR5u2s/WVFF/STjXVrEW8kW4hdKlrTnp5nteb+YoBFnYfsOKL0I6ENF1GGVZ1m1HgXG3wfjPGyFUII0NCXpPTWsE9iyDNTpvhJA2TVMDZibN0GfU/Igsb4Qt1p7S5o+A2V4aCKNA+FQgVCgQahQIRQXCKBA+FQgVwkTYvEz86oQwNdIsbrw4IZnA6+Z+r06YFSv5O50V4BUI9QeeliP9+hsQYjyNAKZqm3OATGALMVhK9kaYxeaJq4gujxqYXb0RUmv83aCESRpfIAyDl/wRcub4j5P5fQrZ4JcFYLI44I8wi3mZLuhzXi7MCqnPM6R7Po03w8iEtVajA34eCaMrn0qzU5YJ/6qZwxmfhMm7dTHll1ovZpXYJ2GUcLloGBmrhgdDDxdeCaNoBCk1dVNBr14y9m/hmfCR1PPm8r0z7xOHh+/b5mjRl3onLGTnt8nS21MvhF4VCDUKhEgUCDUKhEgUCDUKhEgUCDUKhEgUCDUKhEgUCDUKhEgUCDUKhEjUAeEHbnVA+BoKhIEQvwJhIMSvP/X4CWaFMY1OgRCJAqFGgRCJAqFGgRCJnBOOR09Vf8iWw+F4qdlm+HhgbL7TtiLnhKUzhX/SX7cD8MF3O08Um52SFPas7/aK7bLJefXQWfpuy/Kv0vPOCUunH3Phbxn4kCCSTygkJ+Hnz8peVNhuKn4bsrtP2tfZByHdkA6Stm2n8u/xVCrMQCj6DkNDKDsJkn1lqG6skk4K0S3DQu5iIcz+xZLEQprLPz/1JRRISih4a8NCCN54DvvxcrkcDjZiANQBzTldbtfjPbRIH0pC4XgQEkJIHD3hlQkpAi8vV9oiwhZ//lQiI+SLPxJCkkd150SJifrI/QmOlnK9ALd1nwsICWF58qXO2yFxbyI2LOTAGtdw8ocTWAVFQlgeDanbj/5bya5CB5mFJ2Q+X5EQlm5ya86TbCu59RTJWXY4UzhgQsNCQlieKqnZc79QphHcLDMfkAIhbWWREB6loiXo+vyx6u16IBVeQkh6VnA9hYRwLxUtQZca/LGIAoQEHAJHQgiH9FQH7Mh4rtoMkV6SDn4I4YR8LtJVIiGkYxqFX4FZbf6WFfEX/ptAEOROjIx/vXdCely2eqFMWpu95UCAOtqjhOSN8kAiGsIt+FWPD1KTWjal/xQT+7J9ogMBSgh+fJ/ZjoYQbi8utBEYy4nvRTHnL6fMXzBNZISkDXrmLh5Cznf8I2YuQavatJQv3ICdEYIj36LEYyKMltzB7IH07EZhnSonjXMFIWmbiwhQERbnCSkiPbhc9m83RT0sc2pXLaV0NDBBR/hIEF1EhlwsJxF3RVt6ff5CZyQ8YVL2GPcMH+GDCAwaxJMESaKCsJyRVHuLQmTGmWMkjLaksSdJJ/5Pqi5OST7ROYdACGf110OEhHROX1Y9MnmqOniRh3MiIekxjjgJk7KgEuu1NDijksufSAg+XU4oCUk/sOD/E1e6/BKB+TuXCEne33ESLviCOZNKIxHp85j/Z4kwElYBcBKCxazMhov0DJkksRZIJsz4dQDfhGUB29T+PhVyjZgxRFsjKYQct0woXAjhnFAcc2Wlm4h671C35+/QBWaqVP5Uym6FkL9PwDnh8cp7giLraKx5zE5CO5JL0ZNMvLNkJqTP5K03VULu5j3XhMWc9J6nT4xkBp825X//HQEkLCRyS52wLzsnz9Dyx490qoQRG8q7JgTv8ref6xf7ruz3stnbTQeTRQ5XmPAWcOqePr7mg5xdciK0rwpC5sHGMaG0uhtX8mhX/VWcTKxvqhBEq46CkPUYjgml25hKcX6d5HtZCkkjbWblUH6iOsIMvozrUppNK3kgtP0zeQn7tzrh3cuPyDNGFSH1OOi+P0xmR+7i28tKSl4yufKJV/qL2uasMH8fFXMNFSFUAC89frae5KuP6zlfjFV+c7bjRT49r/LTrHa/TLLen6aPAE4zVQDJafDQSWIZl3+VwnRDiEmBUKNAiESBUKP/PyEMO7u69M+NYPTQdE2iStTP4+bwjlUHOgK08V+sHmRjlc1FxMPmYBHJykHzte9UG6j9PW28sq/mkJHoy9KtZHJsDhuFjvZ3Zy7mzcH3robr+Jo0O8/vzZH0pvv83HS963/GFY1fZ73+uwAAAABJRU5ErkJggg==)"
   ]
  },
  {
   "cell_type": "markdown",
   "metadata": {
    "heading_collapsed": true
   },
   "source": [
    "# Learning Objectives"
   ]
  },
  {
   "cell_type": "markdown",
   "metadata": {
    "hidden": true
   },
   "source": [
    "- Load and explore a .json file in Python\n",
    "- Create a clean data structure from a .json file\n",
    "- Conduct descriptive analysis\n",
    "- Visualize the results"
   ]
  },
  {
   "cell_type": "markdown",
   "metadata": {
    "hidden": true
   },
   "source": [
    "Part of being a good data scientist is having the capacity to work with data in many different forms. Much data online is stored in JSON format. So let's see if we can conduct a descriptive analysis of data when it's given to us in that form!"
   ]
  },
  {
   "cell_type": "markdown",
   "metadata": {},
   "source": [
    "## What is JSON?\n",
    "\n",
    "JSON stands for Java Script Object Notation. \n",
    "\n",
    "JSON objects are one common way that data is transmitted over the web.  It is notable for being lightweight, which makes it [preferred](https://stackoverflow.com/questions/383692/what-is-json-and-why-would-i-use-it), generally, over XML."
   ]
  },
  {
   "cell_type": "markdown",
   "metadata": {
    "hidden": true
   },
   "source": [
    "```json\n",
    "{\"menu\": {\n",
    "  \"id\": 12412,\n",
    "  \"istest\": true,\n",
    "  \"value\": \"File\",\n",
    "  \"popup\": {\n",
    "    \"menuitem\": [\n",
    "      {\"value\": \"New\", \"onclick\": \"CreateNewDoc()\"},\n",
    "      {\"value\": \"Open\", \"onclick\": \"OpenDoc()\"},\n",
    "      {\"value\": \"Close\", \"onclick\": \"CloseDoc()\"}\n",
    "    ]\n",
    "  }\n",
    "}}\n",
    "```"
   ]
  },
  {
   "cell_type": "markdown",
   "metadata": {
    "heading_collapsed": true,
    "hidden": true
   },
   "source": [
    "## JSON Format"
   ]
  },
  {
   "cell_type": "markdown",
   "metadata": {
    "hidden": true
   },
   "source": [
    "JSON objects store data in a format similar to a nested Python dictionary. The JSON format makes it easy to store as a file, transfer between users, and use in other languages.\n",
    "\n",
    "For more information about the syntax of JSON files, check out this [link](https://www.json.org/json-en.html) to the JSON website."
   ]
  },
  {
   "cell_type": "markdown",
   "metadata": {
    "ExecuteTime": {
     "end_time": "2021-06-10T04:15:20.107976Z",
     "start_time": "2021-06-10T04:15:20.101838Z"
    },
    "hidden": true
   },
   "source": [
    "Can have these types in it (all relatable to Python types):\n",
    "\n",
    "|JavaScript|JS Example               |Python Equivalent|Python Example           |\n",
    "|----------|-------------------------|-----------------|-------------------------|\n",
    "|Objects   |`{'key0':'v12','v':1}`   |Dictionaries     |`{'key0':'v12','v':1}`   |\n",
    "|Arrays    |`[1, 'one', 'two', 3, 5]`|Lists            |`[1, 'one', 'two', 3, 5]`|\n",
    "|Strings   |`'One'` or `\"Two\"`       |Strings          |`'One'` or `\"Two\"`       |\n",
    "|Numbers   |`1234.5` or `8675309`    |Numbers          |`1234.5` or `8675309`    |  \n",
    "|Boolean   |`true` or `false`        |Boolean          |`True` or `False`        |\n",
    "|Null Value|`null`                   |None Value       |`None`                   |"
   ]
  },
  {
   "cell_type": "markdown",
   "metadata": {
    "heading_collapsed": true
   },
   "source": [
    "# Loading a JSON File"
   ]
  },
  {
   "cell_type": "markdown",
   "metadata": {
    "hidden": true
   },
   "source": [
    "For this example, we've created a `new_releases.json` file containing data on 20 newly released music albums. We got this from the Spotify API - we'll explain what this means later. \n",
    "\n",
    "Let's begin by importing the `json` package, opening a file with python's `open()` function, and then loading that data from the JSON file into a new `data` object."
   ]
  },
  {
   "cell_type": "code",
   "execution_count": null,
   "metadata": {},
   "outputs": [],
   "source": [
    "# We'll need to import the json package first\n",
    "import json"
   ]
  },
  {
   "cell_type": "code",
   "execution_count": null,
   "metadata": {
    "hidden": true
   },
   "outputs": [],
   "source": [
    "# Now use with open to load the file\n",
    "with open('data/new_releases.json') as f:\n",
    "    data = json.load(f)"
   ]
  },
  {
   "cell_type": "markdown",
   "metadata": {
    "hidden": true
   },
   "source": [
    "The Spotify API returned the data in the form of JSON object, which the `json` module transforms into a Python object."
   ]
  },
  {
   "cell_type": "markdown",
   "metadata": {
    "heading_collapsed": true,
    "hidden": true
   },
   "source": [
    "## Exploring JSON Schemas  "
   ]
  },
  {
   "cell_type": "markdown",
   "metadata": {
    "hidden": true
   },
   "source": [
    "Recall that JSON files have a nested structure. The deepest levels of our object will contain individual values: numbers, booleans or strings. These in turn will be stored in the equivalents of Python lists and dictionaries, usually with many levels of nesting. \n",
    "\n",
    "If you try to look at a raw JSON file, you will likely have a hard time understanding the structure. To more easily make sense of it, we will proceed through each level methodically."
   ]
  },
  {
   "cell_type": "code",
   "execution_count": null,
   "metadata": {
    "hidden": true
   },
   "outputs": [],
   "source": [
    "# This will look messy\n",
    "print(data)"
   ]
  },
  {
   "cell_type": "code",
   "execution_count": null,
   "metadata": {
    "hidden": true
   },
   "outputs": [],
   "source": [
    "# One way to make it easier to read\n",
    "print(json.dumps(data, indent=4))"
   ]
  },
  {
   "cell_type": "code",
   "execution_count": null,
   "metadata": {
    "hidden": true
   },
   "outputs": [],
   "source": [
    "# Using the default Jupyter Notebook's display() helps\n",
    "display(data) # Uncomment this to do the same as just displaying the last line\n",
    "# data"
   ]
  },
  {
   "cell_type": "markdown",
   "metadata": {
    "hidden": true
   },
   "source": [
    "To start exploring, let's check the type of our new `data` object and start mapping out the hierarchy."
   ]
  },
  {
   "cell_type": "code",
   "execution_count": null,
   "metadata": {
    "hidden": true
   },
   "outputs": [],
   "source": [
    "type(data)"
   ]
  },
  {
   "cell_type": "code",
   "execution_count": null,
   "metadata": {
    "hidden": true
   },
   "outputs": [],
   "source": [
    "data.keys()"
   ]
  },
  {
   "cell_type": "markdown",
   "metadata": {
    "hidden": true
   },
   "source": [
    "In this case, there is only a single key, 'albums', so we'll continue on down the pathway exploring and mapping out the hierarchy. Once again, let's start by checking the type of this nested data structure."
   ]
  },
  {
   "cell_type": "code",
   "execution_count": null,
   "metadata": {
    "hidden": true
   },
   "outputs": [],
   "source": [
    "type(data['albums'])"
   ]
  },
  {
   "cell_type": "code",
   "execution_count": null,
   "metadata": {
    "hidden": true
   },
   "outputs": [],
   "source": [
    "data['albums'].keys()"
   ]
  },
  {
   "cell_type": "markdown",
   "metadata": {
    "hidden": true
   },
   "source": [
    "At this point, things are starting to look something like this: \n",
    "\n",
    "![](images/json_diagram1.jpg)\n",
    "\n",
    "If we were to continue checking individual data types, we'd have a lot to go through. To simplify this, let's use a `for` loop:"
   ]
  },
  {
   "cell_type": "code",
   "execution_count": null,
   "metadata": {
    "hidden": true
   },
   "outputs": [],
   "source": [
    "for key, value in data['albums'].items():\n",
    "    print(key, type(value))"
   ]
  },
  {
   "cell_type": "markdown",
   "metadata": {
    "hidden": true
   },
   "source": [
    "Adding this to our diagram, we now have something like this:\n",
    "\n",
    "![](images/json_diagram2.jpg)\n",
    "\n",
    "Let's look at the `items` list - this contains the album information. "
   ]
  },
  {
   "cell_type": "code",
   "execution_count": null,
   "metadata": {
    "hidden": true
   },
   "outputs": [],
   "source": [
    "type(data['albums']['items'])"
   ]
  },
  {
   "cell_type": "code",
   "execution_count": null,
   "metadata": {
    "hidden": true,
    "scrolled": true
   },
   "outputs": [],
   "source": [
    "data['albums']['items'][0]"
   ]
  },
  {
   "cell_type": "markdown",
   "metadata": {
    "hidden": true
   },
   "source": [
    "We access values as we would for nested lists or dictionaries in Python."
   ]
  },
  {
   "cell_type": "code",
   "execution_count": null,
   "metadata": {
    "hidden": true
   },
   "outputs": [],
   "source": [
    "data['albums']['items'][0].keys()"
   ]
  },
  {
   "cell_type": "code",
   "execution_count": null,
   "metadata": {
    "hidden": true
   },
   "outputs": [],
   "source": [
    "data['albums']['items'][0]['artists'][0]['name']"
   ]
  },
  {
   "cell_type": "code",
   "execution_count": null,
   "metadata": {
    "hidden": true
   },
   "outputs": [],
   "source": [
    "data['albums']['items'][1]['artists'][0]['name']"
   ]
  },
  {
   "cell_type": "markdown",
   "metadata": {
    "heading_collapsed": true
   },
   "source": [
    "# Loading in Plant Data"
   ]
  },
  {
   "cell_type": "markdown",
   "metadata": {
    "hidden": true
   },
   "source": [
    "Now that we have a handle on how to deal with data in JSON form, let's load in a new dataset and construct an analysis!"
   ]
  },
  {
   "cell_type": "code",
   "execution_count": null,
   "metadata": {
    "hidden": true
   },
   "outputs": [],
   "source": [
    "with open('data/plants.json', 'r') as f:\n",
    "    plants = json.load(f)"
   ]
  },
  {
   "cell_type": "markdown",
   "metadata": {
    "hidden": true
   },
   "source": [
    "This dataset was gathered with the [Trefle API](https://docs.trefle.io/). It contains information about 1000 plants in JSON form."
   ]
  },
  {
   "cell_type": "code",
   "execution_count": null,
   "metadata": {},
   "outputs": [],
   "source": [
    "type(plants)"
   ]
  },
  {
   "cell_type": "code",
   "execution_count": null,
   "metadata": {
    "hidden": true
   },
   "outputs": [],
   "source": [
    "len(plants)"
   ]
  },
  {
   "cell_type": "markdown",
   "metadata": {
    "heading_collapsed": true,
    "hidden": true
   },
   "source": [
    "## What Information Do We Have?"
   ]
  },
  {
   "cell_type": "markdown",
   "metadata": {
    "hidden": true
   },
   "source": [
    "Let's take a look at the first plant in our list to see what information is available."
   ]
  },
  {
   "cell_type": "code",
   "execution_count": null,
   "metadata": {
    "hidden": true,
    "scrolled": true
   },
   "outputs": [],
   "source": [
    "plants[0]"
   ]
  },
  {
   "cell_type": "markdown",
   "metadata": {
    "hidden": true
   },
   "source": [
    "You can find more information about these fields [here](https://docs.trefle.io/docs/advanced/plants-fields)."
   ]
  },
  {
   "cell_type": "markdown",
   "metadata": {
    "heading_collapsed": true,
    "hidden": true
   },
   "source": [
    "## Plant Families"
   ]
  },
  {
   "cell_type": "markdown",
   "metadata": {
    "hidden": true
   },
   "source": [
    "Let's start by seeing what botanical families are represented in our data. We'll build a dictionary that counts the plants by family. We'll use the common names for this purpose."
   ]
  },
  {
   "cell_type": "code",
   "execution_count": null,
   "metadata": {},
   "outputs": [],
   "source": [
    "# Let's use a default dict for this - need to import it first!\n",
    "from collections import defaultdict"
   ]
  },
  {
   "cell_type": "code",
   "execution_count": null,
   "metadata": {
    "hidden": true
   },
   "outputs": [],
   "source": [
    "plant_dict = defaultdict(int)\n",
    "for plant in plants:\n",
    "    plant_dict[plant['family_common_name']] += 1"
   ]
  },
  {
   "cell_type": "code",
   "execution_count": null,
   "metadata": {},
   "outputs": [],
   "source": [
    "plant_dict"
   ]
  },
  {
   "cell_type": "code",
   "execution_count": null,
   "metadata": {
    "hidden": true
   },
   "outputs": [],
   "source": [
    "plant_dict['Beech family']"
   ]
  },
  {
   "cell_type": "markdown",
   "metadata": {
    "hidden": true
   },
   "source": [
    "Are there any missing values?"
   ]
  },
  {
   "cell_type": "code",
   "execution_count": null,
   "metadata": {
    "hidden": true
   },
   "outputs": [],
   "source": [
    "plant_dict[None]"
   ]
  },
  {
   "cell_type": "markdown",
   "metadata": {
    "hidden": true
   },
   "source": [
    "Let's remove these by using a dictionary comprehension:"
   ]
  },
  {
   "cell_type": "code",
   "execution_count": null,
   "metadata": {
    "hidden": true
   },
   "outputs": [],
   "source": [
    "fams_clean = {fam: num for fam, num in plant_dict.items() if fam != None}"
   ]
  },
  {
   "cell_type": "code",
   "execution_count": null,
   "metadata": {
    "hidden": true
   },
   "outputs": [],
   "source": [
    "fams_clean.get(None, 0)"
   ]
  },
  {
   "cell_type": "markdown",
   "metadata": {
    "hidden": true
   },
   "source": [
    "Let's also remove the families whose counts are less than ten:"
   ]
  },
  {
   "cell_type": "code",
   "execution_count": null,
   "metadata": {
    "hidden": true
   },
   "outputs": [],
   "source": [
    "fams_clean = {fam: num for fam, num in fams_clean.items() if num >= 10}"
   ]
  },
  {
   "cell_type": "markdown",
   "metadata": {
    "hidden": true
   },
   "source": [
    "Now we can make a bar chart of the numbers:"
   ]
  },
  {
   "cell_type": "code",
   "execution_count": null,
   "metadata": {},
   "outputs": [],
   "source": [
    "# Need to import matplotlib first\n",
    "import matplotlib.pyplot as plt"
   ]
  },
  {
   "cell_type": "code",
   "execution_count": null,
   "metadata": {
    "hidden": true,
    "scrolled": true
   },
   "outputs": [],
   "source": [
    "plt.style.use('seaborn')"
   ]
  },
  {
   "cell_type": "code",
   "execution_count": null,
   "metadata": {
    "hidden": true
   },
   "outputs": [],
   "source": [
    "fig, ax = plt.subplots(figsize=(20, 12))\n",
    "\n",
    "ax.bar(x=list(fams_clean.keys()), height=list(fams_clean.values()))\n",
    "ax.set_title('Families by Number', fontsize=30)\n",
    "plt.xticks(rotation=80, fontsize=20)\n",
    "plt.yticks(fontsize=20);"
   ]
  },
  {
   "cell_type": "markdown",
   "metadata": {
    "heading_collapsed": true,
    "hidden": true
   },
   "source": [
    "## Synonyms"
   ]
  },
  {
   "cell_type": "markdown",
   "metadata": {
    "hidden": true
   },
   "source": [
    "Suppose we wanted to know how many synonymous names were listed for each plant. We could grab this number with a list comprehension:"
   ]
  },
  {
   "cell_type": "code",
   "execution_count": null,
   "metadata": {
    "hidden": true
   },
   "outputs": [],
   "source": [
    "num_syn = [len(plant['synonyms']) for plant in plants]"
   ]
  },
  {
   "cell_type": "code",
   "execution_count": null,
   "metadata": {
    "hidden": true
   },
   "outputs": [],
   "source": [
    "fig, ax = plt.subplots(figsize=(8, 6))\n",
    "\n",
    "ax.scatter(range(1000), num_syn, alpha=0.5)\n",
    "ax.set_title('Numbers of Synonyms');"
   ]
  },
  {
   "cell_type": "markdown",
   "metadata": {
    "heading_collapsed": true,
    "hidden": true
   },
   "source": [
    "## Exercise"
   ]
  },
  {
   "cell_type": "markdown",
   "metadata": {
    "heading_collapsed": true,
    "hidden": true
   },
   "source": [
    "One plant has nearly 350 synonynms! What plant is this?"
   ]
  },
  {
   "cell_type": "code",
   "execution_count": null,
   "metadata": {},
   "outputs": [],
   "source": []
  },
  {
   "cell_type": "markdown",
   "metadata": {
    "heading_collapsed": true,
    "hidden": true
   },
   "source": [
    "<details>\n",
    "    <summary>\n",
    "        Answer\n",
    "    </summary>\n",
    "\n",
    "```python\n",
    "[plant for plant in plants if len(plant['synonyms']) > 300]\n",
    "```\n",
    "</details>"
   ]
  },
  {
   "cell_type": "markdown",
   "metadata": {
    "heading_collapsed": true,
    "hidden": true
   },
   "source": [
    "## Bibliography"
   ]
  },
  {
   "cell_type": "code",
   "execution_count": null,
   "metadata": {
    "hidden": true
   },
   "outputs": [],
   "source": [
    "biblios = [plant['bibliography'] for plant in plants]"
   ]
  },
  {
   "cell_type": "code",
   "execution_count": null,
   "metadata": {
    "hidden": true
   },
   "outputs": [],
   "source": [
    "biblios[0]"
   ]
  },
  {
   "cell_type": "markdown",
   "metadata": {
    "hidden": true
   },
   "source": [
    "Let's check the bibliographies for any explicit mention of Linnaeus, the godfather of biological taxonomy. First we'll remove the plants with no bibliography:"
   ]
  },
  {
   "cell_type": "code",
   "execution_count": null,
   "metadata": {
    "hidden": true
   },
   "outputs": [],
   "source": [
    "hasbiblio = [plant for plant in plants if plant['bibliography'] != None]"
   ]
  },
  {
   "cell_type": "code",
   "execution_count": null,
   "metadata": {
    "hidden": true
   },
   "outputs": [],
   "source": [
    "len(hasbiblio)"
   ]
  },
  {
   "cell_type": "code",
   "execution_count": null,
   "metadata": {
    "hidden": true
   },
   "outputs": [],
   "source": [
    "linnaeans = [plant['bibliography'] for plant in hasbiblio if 'Linnaeus'\\\n",
    "             in plant['bibliography']]\n",
    "linnaeans"
   ]
  },
  {
   "cell_type": "markdown",
   "metadata": {
    "heading_collapsed": true
   },
   "source": [
    "# Matching Author and Bibliography"
   ]
  },
  {
   "cell_type": "markdown",
   "metadata": {
    "hidden": true
   },
   "source": [
    "In fact, _Species Plantarum_ (1753) was written by Linnaeus, and \"Sp. Pl.\" in these bibliographies is a reference to that master work. Let's check to see who the author is for these records whose bibliographies start with \"Sp. Pl.\":"
   ]
  },
  {
   "cell_type": "code",
   "execution_count": null,
   "metadata": {},
   "outputs": [],
   "source": [
    "sps = []\n",
    "for plant in hasbiblio:\n",
    "    if plant['bibliography'].startswith('Sp. Pl.'):\n",
    "            sps.append(plant)"
   ]
  },
  {
   "cell_type": "code",
   "execution_count": null,
   "metadata": {
    "hidden": true
   },
   "outputs": [],
   "source": [
    "sp_authors = [sp['author'] for sp in sps]"
   ]
  },
  {
   "cell_type": "code",
   "execution_count": null,
   "metadata": {
    "hidden": true
   },
   "outputs": [],
   "source": [
    "uniq_auth = list(set(sp_authors))"
   ]
  },
  {
   "cell_type": "code",
   "execution_count": null,
   "metadata": {
    "hidden": true
   },
   "outputs": [],
   "source": [
    "counts = []\n",
    "for author in uniq_auth:\n",
    "    counts.append(sp_authors.count(author))"
   ]
  },
  {
   "cell_type": "code",
   "execution_count": null,
   "metadata": {
    "hidden": true
   },
   "outputs": [],
   "source": [
    "dict(zip(uniq_auth, counts))"
   ]
  },
  {
   "cell_type": "markdown",
   "metadata": {
    "heading_collapsed": true,
    "hidden": true
   },
   "source": [
    "## Exercise"
   ]
  },
  {
   "cell_type": "markdown",
   "metadata": {
    "hidden": true
   },
   "source": [
    "Change the author to 'L.' (for 'Linnaeus') for all of these records."
   ]
  },
  {
   "cell_type": "code",
   "execution_count": null,
   "metadata": {
    "hidden": true
   },
   "outputs": [],
   "source": []
  },
  {
   "cell_type": "markdown",
   "metadata": {
    "hidden": true
   },
   "source": [
    "<details>\n",
    "    <summary>\n",
    "        Answer\n",
    "    </summary>\n",
    "\n",
    "```python\n",
    "for plant in plants:\n",
    "    try:\n",
    "        if plant['bibliography'].startswith('Sp. Pl.'):\n",
    "            plant['author'] = 'L.'\n",
    "    except:\n",
    "        continue\n",
    "```\n",
    "</details>"
   ]
  },
  {
   "cell_type": "markdown",
   "metadata": {
    "heading_collapsed": true
   },
   "source": [
    "# Teaser: Bringing in `pandas`: Back to Synonyms"
   ]
  },
  {
   "cell_type": "markdown",
   "metadata": {
    "hidden": true
   },
   "source": [
    "Let's take advantage of the DataFrame tools from `pandas`:"
   ]
  },
  {
   "cell_type": "code",
   "execution_count": null,
   "metadata": {},
   "outputs": [],
   "source": [
    "# Need to first import pandas\n",
    "import pandas as pd"
   ]
  },
  {
   "cell_type": "code",
   "execution_count": null,
   "metadata": {
    "hidden": true
   },
   "outputs": [],
   "source": [
    "plants_df = pd.DataFrame(plants)"
   ]
  },
  {
   "cell_type": "code",
   "execution_count": null,
   "metadata": {
    "hidden": true
   },
   "outputs": [],
   "source": [
    "plants_df.head()"
   ]
  },
  {
   "cell_type": "markdown",
   "metadata": {
    "heading_collapsed": true,
    "hidden": true
   },
   "source": [
    "## Exercises for Later"
   ]
  },
  {
   "cell_type": "markdown",
   "metadata": {
    "hidden": true
   },
   "source": [
    "1. Add the number of synonyms as a new column called \"num_syn\".\n",
    "2. Sort the DataFrame by number of synonyms in descending order.\n",
    "3. Grab the Image URL of the plant that has the fourth-highest number of synonyms.\n",
    "4. Paste it into your browser and take a look!"
   ]
  },
  {
   "cell_type": "code",
   "execution_count": null,
   "metadata": {},
   "outputs": [],
   "source": [
    "\n",
    "\n",
    "\n",
    "\n"
   ]
  },
  {
   "cell_type": "markdown",
   "metadata": {
    "hidden": true
   },
   "source": [
    "<details>\n",
    "    <summary>Answer here\n",
    "    </summary>\n",
    "\n",
    "```python\n",
    "plants_df['num_syn'] = plants_df['synonyms'].map(len)\n",
    "sorted = plants_df.sort_values('num_syn', ascending=False)\n",
    "sorted.loc[3, 'image_url']\n",
    "```\n",
    "</details>"
   ]
  },
  {
   "cell_type": "markdown",
   "metadata": {
    "heading_collapsed": true
   },
   "source": [
    "# Year"
   ]
  },
  {
   "cell_type": "markdown",
   "metadata": {
    "hidden": true
   },
   "source": [
    "The year is an indication of when a valid name for the plant first appeared in print. Let's build a simple histogram of these years:"
   ]
  },
  {
   "cell_type": "code",
   "execution_count": null,
   "metadata": {
    "hidden": true,
    "scrolled": true
   },
   "outputs": [],
   "source": [
    "fig, ax = plt.subplots()\n",
    "\n",
    "ax.hist(plants_df[plants_df['year'] > 0]['year'], color='darkgreen');"
   ]
  },
  {
   "cell_type": "markdown",
   "metadata": {
    "heading_collapsed": true,
    "hidden": true
   },
   "source": [
    "## Exercise"
   ]
  },
  {
   "cell_type": "markdown",
   "metadata": {
    "hidden": true
   },
   "source": [
    "How many plants have first been written about just in the last 20 years? Make a bar chart or pie chart that shows the distribution by family of these plants."
   ]
  },
  {
   "cell_type": "code",
   "execution_count": null,
   "metadata": {},
   "outputs": [],
   "source": []
  },
  {
   "cell_type": "markdown",
   "metadata": {
    "hidden": true
   },
   "source": [
    "<details>\n",
    "    <summary>\n",
    "        One answer here\n",
    "    </summary>\n",
    "\n",
    "```python\n",
    "recent = plants_df[plants_df['year'] >= 2001]\n",
    "fig, ax = plt.subplots(1, 2, figsize=(14, 6)\n",
    "ax[0].bar(recent['family_common_name'].value_counts().index,\n",
    "       recent['family_common_name'].value_counts(),\n",
    "      color='darkgreen')\n",
    "ax[1].pie(recent['family_common_name'].value_counts(),\n",
    "      labels=recent['family_common_name'].value_counts().index,\n",
    "      radius=1.2, labeldistance=0.4, rotatelabels=True);\n",
    "```    \n",
    "</details>"
   ]
  },
  {
   "cell_type": "code",
   "execution_count": null,
   "metadata": {
    "hidden": true
   },
   "outputs": [],
   "source": []
  }
 ],
 "metadata": {
  "kernelspec": {
   "display_name": "Python 3",
   "language": "python",
   "name": "python3"
  },
  "language_info": {
   "codemirror_mode": {
    "name": "ipython",
    "version": 3
   },
   "file_extension": ".py",
   "mimetype": "text/x-python",
   "name": "python",
   "nbconvert_exporter": "python",
   "pygments_lexer": "ipython3",
   "version": "3.8.5"
  },
  "toc": {
   "base_numbering": 1,
   "nav_menu": {},
   "number_sections": true,
   "sideBar": true,
   "skip_h1_title": false,
   "title_cell": "Table of Contents",
   "title_sidebar": "TOC",
   "toc_cell": true,
   "toc_position": {
    "height": "calc(100% - 180px)",
    "left": "10px",
    "top": "150px",
    "width": "288px"
   },
   "toc_section_display": true,
   "toc_window_display": true
  }
 },
 "nbformat": 4,
 "nbformat_minor": 4
}
